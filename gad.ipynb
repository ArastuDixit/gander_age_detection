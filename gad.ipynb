{
 "cells": [
  {
   "cell_type": "code",
   "execution_count": 1,
   "id": "6e409742",
   "metadata": {},
   "outputs": [],
   "source": [
    "import cv2"
   ]
  },
  {
   "cell_type": "code",
   "execution_count": 4,
   "id": "2f0b7a49",
   "metadata": {},
   "outputs": [],
   "source": [
    "def highlightFace(net, frame, conf_threshold=0.7):\n",
    "    frameOpencvDnn = frame.copy()\n",
    "    frameHeight = frameOpencvDnn.shape[0]\n",
    "    frameWidth = frameOpencvDnn.shape[1]\n",
    "    blob = cv2.dnn.blobFromImage(frameOpencvDnn, 1.0, (300, 300), [104, 117, 123], True, False)\n",
    "\n",
    "    net.setInput(blob)\n",
    "    detections = net.forward()\n",
    "    faceBoxes = []\n",
    "    for i in range(detections.shape[2]):\n",
    "        confidence = detections[0, 0, i, 2]\n",
    "        if confidence > conf_threshold:\n",
    "            x1 = int(detections[0, 0, i, 3]*frameWidth)\n",
    "            y1 = int(detections[0, 0, i, 4]*frameHeight)\n",
    "            x2 = int(detections[0, 0, i, 5]*frameWidth)\n",
    "            y2 = int(detections[0, 0, i, 6]*frameHeight)\n",
    "            faceBoxes.append([x1, y1, x2, y2])\n",
    "            cv2.rectangle(frameOpencvDnn, (x1, y1), (x2, y2), (0, 255, 0), int(round(frameHeight/150)), 8)\n",
    "    return frameOpencvDnn, faceBoxes"
   ]
  },
  {
   "cell_type": "code",
   "execution_count": 5,
   "id": "62fd8c49",
   "metadata": {},
   "outputs": [],
   "source": [
    "faceProto = \"opencv_face_detector.pbtxt\"\n",
    "faceModel = \"opencv_face_detector_uint8.pb\"\n",
    "ageProto = \"age_deploy.prototxt\"\n",
    "ageModel = \"age_net.caffemodel\"\n",
    "genderProto = \"gender_deploy.prototxt\"\n",
    "genderModel = \"gender_net.caffemodel\""
   ]
  },
  {
   "cell_type": "code",
   "execution_count": 6,
   "id": "71ca4cb6",
   "metadata": {},
   "outputs": [],
   "source": [
    "MODEL_MEAN_VALUES = (78.4263377603, 87.7689143744, 114.895847746)\n",
    "ageList = ['(0-2)', '(4-6)', '(8-12)', '(15-20)', '(22-25)', '(26-32)', '(38-43)', '(48-53)', '(60-100)']\n",
    "genderList = ['Male', 'Female']"
   ]
  },
  {
   "cell_type": "code",
   "execution_count": 7,
   "id": "03e5e94a",
   "metadata": {},
   "outputs": [],
   "source": [
    "faceNet = cv2.dnn.readNet(faceModel, faceProto)\n",
    "ageNet = cv2.dnn.readNet(ageModel, ageProto)\n",
    "genderNet = cv2.dnn.readNet(genderModel, genderProto)"
   ]
  },
  {
   "cell_type": "code",
   "execution_count": 8,
   "id": "e82d02df",
   "metadata": {},
   "outputs": [
    {
     "name": "stdout",
     "output_type": "stream",
     "text": [
      "Gender: Male\n",
      "Age: 4-6 years\n"
     ]
    }
   ],
   "source": [
    "frame = cv2.imread(\"kid1.jpg\")\n",
    "padding = 20\n",
    "resultImg, faceBoxes = highlightFace(faceNet, frame)\n",
    "if not faceBoxes:\n",
    "    print(\"No face detected\")\n",
    "for faceBox in faceBoxes:\n",
    "    face = frame[max(0, faceBox[1]-padding): min(faceBox[3]+padding, frame.shape[0]-1), max(0, faceBox[0]-padding): min(faceBox[2]+padding, frame.shape[1]-1)]\n",
    "\n",
    "    blob = cv2.dnn.blobFromImage(face, 1.0, (227, 227), MODEL_MEAN_VALUES, swapRB=False)\n",
    "    genderNet.setInput(blob)\n",
    "    genderPreds = genderNet.forward()\n",
    "    gender = genderList[genderPreds[0].argmax()]\n",
    "    print(f'Gender: {gender}')\n",
    "    ageNet.setInput(blob)\n",
    "    agePreds = ageNet.forward()\n",
    "    age = ageList[agePreds[0].argmax()]\n",
    "    print(f'Age: {age[1:-1]} years')\n",
    "    cv2.putText(resultImg, f'{gender}, {age}', (faceBox[0], faceBox[1]-10), cv2.FONT_HERSHEY_SIMPLEX, 0.8, (0,255,255), 2, cv2.LINE_AA)\n",
    "    cv2.imshow(\"Detecting age and gender\", resultImg)\n",
    "    cv2.waitKey(0)"
   ]
  },
  {
   "cell_type": "code",
   "execution_count": null,
   "id": "7bbca237",
   "metadata": {},
   "outputs": [],
   "source": []
  }
 ],
 "metadata": {
  "kernelspec": {
   "display_name": "Python 3 (ipykernel)",
   "language": "python",
   "name": "python3"
  },
  "language_info": {
   "codemirror_mode": {
    "name": "ipython",
    "version": 3
   },
   "file_extension": ".py",
   "mimetype": "text/x-python",
   "name": "python",
   "nbconvert_exporter": "python",
   "pygments_lexer": "ipython3",
   "version": "3.9.7"
  }
 },
 "nbformat": 4,
 "nbformat_minor": 5
}
